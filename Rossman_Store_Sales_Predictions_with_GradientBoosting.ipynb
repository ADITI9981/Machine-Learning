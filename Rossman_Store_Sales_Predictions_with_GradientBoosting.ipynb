{
 "cells": [
  {
   "cell_type": "code",
   "execution_count": null,
   "id": "3995495c-7e51-4a82-91b8-9e27e02c9501",
   "metadata": {},
   "outputs": [],
   "source": [
    "!pip install jovian opendatasets xgboost graphviz lightgbm scikit_learn xgboost lightgbm --upgrade"
   ]
  },
  {
   "cell_type": "code",
   "execution_count": null,
   "id": "947b44c1-1caa-4b31-b0f1-e9fa11e62f54",
   "metadata": {},
   "outputs": [],
   "source": [
    "'''\n",
    "Rossmann operates over 3,000 drug stores in 7 European countries. Currently, \n",
    "Rossmann store managers are tasked with predicting their daily sales for up to six weeks in advance.\n",
    "Store sales are influenced by many factors, including promotions, competition, school and state holidays,\n",
    "seasonality, and locality. With thousands of individual managers predicting sales based on their unique circumstances,\n",
    "the accuracy of results can be quite varied.\n",
    "\n",
    "In their first Kaggle competition, Rossmann is challenging you to predict 6 weeks of daily sales for 1,115 stores\n",
    "located across Germany. Reliable sales forecasts enable store managers to create effective staff schedules\n",
    "that increase productivity and motivation. By helping Rossmann create a robust prediction model, \n",
    "you will help store managers stay focused on what’s most important to them: their customers and their teams! \n",
    "'''"
   ]
  },
  {
   "cell_type": "code",
   "execution_count": null,
   "id": "b5f53397-d3da-405d-b201-d1611b0f555e",
   "metadata": {},
   "outputs": [],
   "source": [
    "import pandas as pd\n",
    "import numpy as np\n",
    "import matplotlib.pyplot as plt\n",
    "import seaborn as sns\n",
    "%matplotlib inline"
   ]
  },
  {
   "cell_type": "code",
   "execution_count": null,
   "id": "bee56c6a-375e-44bb-9b44-ce668ab57fc6",
   "metadata": {},
   "outputs": [],
   "source": [
    "import os\n",
    "import opendatasets as od\n",
    "import pandas as pd\n",
    "pd.set_option(\"display.max_columns\", 120)\n",
    "pd.set_option(\"display.max_rows\", 120)"
   ]
  },
  {
   "cell_type": "code",
   "execution_count": null,
   "id": "9d88119f-a86e-4801-9f51-01e95c67783b",
   "metadata": {},
   "outputs": [],
   "source": [
    "ross_df = pd.read_csv(r\"C:\\Users\\DELL\\Downloads\\rossmann-store-sales\\train.csv\", low_memory=False)\n",
    "store_df = pd.read_csv(r\"C:\\Users\\DELL\\Downloads\\rossmann-store-sales\\store.csv\")\n",
    "test_df = pd.read_csv(r\"C:\\Users\\DELL\\Downloads\\rossmann-store-sales\\test.csv\")\n",
    "submission_df = pd.read_csv(r\"C:\\Users\\DELL\\Downloads\\rossmann-store-sales\\sample_submission.csv\")"
   ]
  },
  {
   "cell_type": "code",
   "execution_count": null,
   "id": "4e8725f6-a309-4ba7-acc6-4f9b52131161",
   "metadata": {},
   "outputs": [],
   "source": [
    "ross_df"
   ]
  },
  {
   "cell_type": "code",
   "execution_count": null,
   "id": "4898823e-c1fb-4f0d-97f8-a1c65dd7b3d2",
   "metadata": {},
   "outputs": [],
   "source": [
    "store_df"
   ]
  },
  {
   "cell_type": "code",
   "execution_count": null,
   "id": "2768fbf1-46bc-4d2f-808c-fa86d0e25e3b",
   "metadata": {},
   "outputs": [],
   "source": [
    "test_df"
   ]
  },
  {
   "cell_type": "code",
   "execution_count": null,
   "id": "ca1c2ea8-7124-4a50-ae78-4c9144b8164f",
   "metadata": {},
   "outputs": [],
   "source": [
    "submission_df"
   ]
  },
  {
   "cell_type": "code",
   "execution_count": null,
   "id": "314713f6-b566-4b2b-8e5f-17bf574df467",
   "metadata": {},
   "outputs": [],
   "source": [
    "merged_df = ross_df.merge(store_df,how='left',on='Store')\n",
    "merged_test_df = test_df.merge(store_df,how='left', on='Store')"
   ]
  },
  {
   "cell_type": "code",
   "execution_count": null,
   "id": "80e03dba-2d5b-4175-8aa7-5340fb3d344e",
   "metadata": {},
   "outputs": [],
   "source": [
    "merged_df"
   ]
  },
  {
   "cell_type": "code",
   "execution_count": null,
   "id": "abd7fbad-5157-4048-b014-5bfe65408e90",
   "metadata": {},
   "outputs": [],
   "source": [
    "merged_df.info()"
   ]
  },
  {
   "cell_type": "code",
   "execution_count": null,
   "id": "dfd1fbab-98fd-4268-a18a-4f10b704d231",
   "metadata": {},
   "outputs": [],
   "source": [
    "def split_date(df):\n",
    "    df['Date'] = pd.to_datetime(df['Date'])\n",
    "    df['month'] = df.Date.dt.month\n",
    "    df['year'] = df.Date.dt.year\n",
    "    df['day'] = df.Date.dt.day\n",
    "    df['WeekOfYear'] = df.Date.dt.isocalendar().week"
   ]
  },
  {
   "cell_type": "code",
   "execution_count": null,
   "id": "a1b54030-0709-48d8-98a1-9965e1e2e073",
   "metadata": {},
   "outputs": [],
   "source": [
    "split_date(merged_df)\n",
    "split_date(merged_test_df)"
   ]
  },
  {
   "cell_type": "code",
   "execution_count": null,
   "id": "29ac7a5c-8d77-4d0a-898b-6c4466851db3",
   "metadata": {},
   "outputs": [],
   "source": [
    "merged_df"
   ]
  },
  {
   "cell_type": "code",
   "execution_count": null,
   "id": "e4f1e1b7-81ab-4b4f-92f7-11310dc1616f",
   "metadata": {},
   "outputs": [],
   "source": [
    "#store open/close"
   ]
  },
  {
   "cell_type": "code",
   "execution_count": null,
   "id": "c9f65e8c-fb3f-4c50-886d-847d3ebdb091",
   "metadata": {},
   "outputs": [],
   "source": [
    "merged_df[merged_df.Open == 0].Sales.value_counts()"
   ]
  },
  {
   "cell_type": "code",
   "execution_count": null,
   "id": "a73099fb-f4af-442e-aeb7-33b80344f090",
   "metadata": {},
   "outputs": [],
   "source": [
    "merged_df = merged_df[merged_df.Open==1].copy()"
   ]
  },
  {
   "cell_type": "code",
   "execution_count": null,
   "id": "7a5f9dbc-4251-40a9-b217-84aa64a93eb0",
   "metadata": {},
   "outputs": [],
   "source": [
    "merged_df"
   ]
  },
  {
   "cell_type": "code",
   "execution_count": null,
   "id": "80c34fb0-d178-449e-88a2-af4b834575d6",
   "metadata": {},
   "outputs": [],
   "source": [
    "#compitition"
   ]
  },
  {
   "cell_type": "code",
   "execution_count": null,
   "id": "5467a8fc-d5ac-43f2-82c0-191ebd07f2b7",
   "metadata": {},
   "outputs": [],
   "source": [
    "def comp_months(df):\n",
    "    df['CompetitionOpen'] = 12 * (df.year - df.CompetitionOpenSinceYear) + (df.month - df.CompetitionOpenSinceMonth)\n",
    "    df['CompetitionOpen'] = df['CompetitionOpen'].map(lambda x: 0 if x<0 else x).fillna(0)"
   ]
  },
  {
   "cell_type": "code",
   "execution_count": null,
   "id": "7db87ff4-68fe-462a-9ad6-b2fb22e983d2",
   "metadata": {},
   "outputs": [],
   "source": [
    "comp_months(merged_df)\n",
    "comp_months(merged_test_df)"
   ]
  },
  {
   "cell_type": "code",
   "execution_count": null,
   "id": "fd90e1ac-f5d1-477f-920b-d6556bce268f",
   "metadata": {},
   "outputs": [],
   "source": [
    "merged_df"
   ]
  },
  {
   "cell_type": "code",
   "execution_count": null,
   "id": "14e48777-743a-4551-8a57-a5b0dc1f4c28",
   "metadata": {},
   "outputs": [],
   "source": [
    "def check_promo_month(row):\n",
    "    month2str = {1:'Jan', 2:'Feb', 3:'Mar', 4:'Apr', 5:'May', 6:'Jun',              \n",
    "                 7:'Jul', 8:'Aug', 9:'Sept', 10:'Oct', 11:'Nov', 12:'Dec'}\n",
    "    try:\n",
    "        months = (row['PromoInterval'] or '').split(',')\n",
    "        if row['Promo2Open'] and month2str[row['month']] in months:\n",
    "            return 1\n",
    "        else:\n",
    "            return 0\n",
    "    except Exception:\n",
    "        return 0\n",
    "\n",
    "def promo_cols(df):\n",
    "    # Months since Promo2 was open\n",
    "    df['Promo2SinceYear'] = df['Promo2SinceYear'].fillna(0).astype(int)\n",
    "    df['Promo2SinceWeek'] = df['Promo2SinceWeek'].fillna(0).astype(int)\n",
    "    df['Promo2'] = df['Promo2'].fillna(0).astype(int)\n",
    "    df['Promo2Open'] = 12 * (df.year - df.Promo2SinceYear) +  (df.WeekOfYear - df.Promo2SinceWeek)*7/30.5\n",
    "    df['Promo2Open'] = df['Promo2Open'].map(lambda x: 0 if x < 0 else x).fillna(0) * df['Promo2']\n",
    "    # Whether a new round of promotions was started in the current month\n",
    "    df['IsPromo2Month'] = df.apply(check_promo_month, axis=1) * df['Promo2']"
   ]
  },
  {
   "cell_type": "code",
   "execution_count": null,
   "id": "df78cd55-d0b7-4dd2-aad4-558e1aebfee9",
   "metadata": {},
   "outputs": [],
   "source": [
    "promo_cols(merged_df)\n",
    "promo_cols(merged_test_df)"
   ]
  },
  {
   "cell_type": "code",
   "execution_count": null,
   "id": "770a496e-0de5-4c60-afda-63b55bae6edb",
   "metadata": {},
   "outputs": [],
   "source": [
    "merged_df[['Date', 'Promo2', 'Promo2SinceYear', 'Promo2SinceWeek', 'PromoInterval', 'Promo2Open', 'IsPromo2Month']].sample(20)"
   ]
  },
  {
   "cell_type": "code",
   "execution_count": null,
   "id": "553239df-a3c7-4ff2-8e65-477ceed8b88f",
   "metadata": {},
   "outputs": [],
   "source": [
    "input_cols = ['Store', 'DayOfWeek', 'Promo', 'StateHoliday', 'SchoolHoliday', \n",
    "              'StoreType', 'Assortment', 'CompetitionDistance', 'CompetitionOpen', \n",
    "              'day', 'month', 'year', 'WeekOfYear',  'Promo2', \n",
    "              'Promo2Open', 'IsPromo2Month']\n",
    "target_col = 'Sales'"
   ]
  },
  {
   "cell_type": "code",
   "execution_count": null,
   "id": "e64b30d2-47d9-4e4d-891b-c09574e57b0d",
   "metadata": {},
   "outputs": [],
   "source": [
    "inputs = merged_df[input_cols].copy()\n",
    "targets = merged_df[target_col].copy()"
   ]
  },
  {
   "cell_type": "code",
   "execution_count": null,
   "id": "e58ec10f-c148-47dc-ae0a-692784923ac6",
   "metadata": {},
   "outputs": [],
   "source": [
    "inputs"
   ]
  },
  {
   "cell_type": "code",
   "execution_count": null,
   "id": "a3548ad2-4bb5-49ae-94e3-5f4e142dd892",
   "metadata": {},
   "outputs": [],
   "source": [
    "test_inputs = merged_test_df[input_cols].copy()"
   ]
  },
  {
   "cell_type": "code",
   "execution_count": null,
   "id": "0cd426bb-4308-4ad7-8b7e-bb656d89f658",
   "metadata": {},
   "outputs": [],
   "source": [
    "test_inputs"
   ]
  },
  {
   "cell_type": "code",
   "execution_count": null,
   "id": "4e5b0b1b-8899-4175-ac5a-b1cdc928584c",
   "metadata": {},
   "outputs": [],
   "source": [
    "numeric_cols = ['Store', 'Promo', 'SchoolHoliday', \n",
    "              'CompetitionDistance', 'CompetitionOpen', 'Promo2', 'Promo2Open', 'IsPromo2Month',\n",
    "              'day', 'month', 'year', 'WeekOfYear',  ]\n",
    "categorical_cols = ['DayOfWeek', 'StateHoliday', 'StoreType', 'Assortment']"
   ]
  },
  {
   "cell_type": "code",
   "execution_count": null,
   "id": "bcd24550-2759-4e87-9c2f-c6b39d05df37",
   "metadata": {},
   "outputs": [],
   "source": [
    "inputs[numeric_cols].isna().sum()"
   ]
  },
  {
   "cell_type": "code",
   "execution_count": null,
   "id": "dd008e9c-f53f-41ae-a9c9-7193a20902ce",
   "metadata": {},
   "outputs": [],
   "source": [
    "test_inputs[numeric_cols].isna().sum()"
   ]
  },
  {
   "cell_type": "code",
   "execution_count": null,
   "id": "087c48c5-620a-409c-82ac-9ea26411da9c",
   "metadata": {},
   "outputs": [],
   "source": [
    "max_distance = inputs.CompetitionDistance.max()\n",
    "max_distance"
   ]
  },
  {
   "cell_type": "code",
   "execution_count": null,
   "id": "f7739952-fd11-44c6-b8fb-d112a99d33e7",
   "metadata": {},
   "outputs": [],
   "source": [
    "inputs['CompetitionDistance'].fillna(max_distance, inplace=True)\n",
    "test_inputs['CompetitionDistance'].fillna(max_distance, inplace=True)"
   ]
  },
  {
   "cell_type": "code",
   "execution_count": null,
   "id": "ec8f4ff7-a524-4403-bb69-a74d0ab707d2",
   "metadata": {},
   "outputs": [],
   "source": [
    "from sklearn.preprocessing import MinMaxScaler"
   ]
  },
  {
   "cell_type": "code",
   "execution_count": null,
   "id": "e210149c-2d51-4e3e-b5ee-b4d425f5ab70",
   "metadata": {},
   "outputs": [],
   "source": [
    "scaler = MinMaxScaler().fit(inputs[numeric_cols])"
   ]
  },
  {
   "cell_type": "code",
   "execution_count": null,
   "id": "779c57c1-87c9-401f-8a8f-912a646d115b",
   "metadata": {},
   "outputs": [],
   "source": [
    "inputs[numeric_cols] = scaler.transform(inputs[numeric_cols])\n",
    "test_inputs[numeric_cols] = scaler.transform(test_inputs[numeric_cols])"
   ]
  },
  {
   "cell_type": "code",
   "execution_count": null,
   "id": "b3310b35-fec9-46cb-9601-d19042f5af74",
   "metadata": {},
   "outputs": [],
   "source": [
    "from sklearn.preprocessing import OneHotEncoder"
   ]
  },
  {
   "cell_type": "code",
   "execution_count": null,
   "id": "a75e4a3e-4c44-4e62-8add-4d1d712dfc5b",
   "metadata": {},
   "outputs": [],
   "source": [
    "encoder = OneHotEncoder(sparse_output=False, handle_unknown='ignore').fit(inputs[categorical_cols])\n",
    "encoded_cols = list(encoder.get_feature_names_out(categorical_cols))"
   ]
  },
  {
   "cell_type": "code",
   "execution_count": null,
   "id": "a67172cf-9060-491c-8d8e-62a09d1438e3",
   "metadata": {},
   "outputs": [],
   "source": [
    "inputs[encoded_cols] = encoder.transform(inputs[categorical_cols])\n",
    "test_inputs[encoded_cols] = encoder.transform(test_inputs[categorical_cols])"
   ]
  },
  {
   "cell_type": "code",
   "execution_count": null,
   "id": "e2d3fc71-175b-4adf-a466-f619eededbeb",
   "metadata": {},
   "outputs": [],
   "source": [
    "X = inputs[numeric_cols + encoded_cols]\n",
    "X_test = test_inputs[numeric_cols + encoded_cols]"
   ]
  },
  {
   "cell_type": "code",
   "execution_count": null,
   "id": "e0f8818a-23e5-4ad8-b18c-74840e5b5e1c",
   "metadata": {},
   "outputs": [],
   "source": [
    "#training"
   ]
  },
  {
   "cell_type": "code",
   "execution_count": null,
   "id": "df7771cf-56f0-41be-9964-5132b577ef23",
   "metadata": {},
   "outputs": [],
   "source": [
    "from xgboost import XGBRegressor"
   ]
  },
  {
   "cell_type": "code",
   "execution_count": null,
   "id": "8194c5bd-8712-45ac-a843-77a0c1d91f9f",
   "metadata": {},
   "outputs": [],
   "source": [
    "model = XGBRegressor(random_state=42,n_jobs = -1, n_estimators=20, max_depth=4)"
   ]
  },
  {
   "cell_type": "code",
   "execution_count": null,
   "id": "722584e5-d457-4787-9637-6ecfc1376f55",
   "metadata": {},
   "outputs": [],
   "source": [
    "model.fit(X,targets)"
   ]
  },
  {
   "cell_type": "code",
   "execution_count": null,
   "id": "486ec358-7648-4dc1-8d30-5011bfe65efe",
   "metadata": {},
   "outputs": [],
   "source": [
    "preds = model.predict(X)"
   ]
  },
  {
   "cell_type": "code",
   "execution_count": null,
   "id": "f8d597e1-f310-4a03-ae98-06542d17fe3d",
   "metadata": {},
   "outputs": [],
   "source": [
    "preds"
   ]
  },
  {
   "cell_type": "code",
   "execution_count": null,
   "id": "4b47b14c-8f52-4860-958e-9a8e69fd9c7e",
   "metadata": {},
   "outputs": [],
   "source": [
    "from sklearn.metrics import mean_squared_error"
   ]
  },
  {
   "cell_type": "code",
   "execution_count": null,
   "id": "04f9871a-1487-4881-9c8a-e24cb08221c1",
   "metadata": {},
   "outputs": [],
   "source": []
  },
  {
   "cell_type": "code",
   "execution_count": null,
   "id": "5de004a9-0cf4-4d85-9c92-1c8afb61c971",
   "metadata": {},
   "outputs": [],
   "source": [
    "def rmse(a,b):\n",
    "    a = np.array(a)\n",
    "    b = np.array(b)\n",
    "    return np.sqrt(mean_squared_error(a, b)) "
   ]
  },
  {
   "cell_type": "code",
   "execution_count": null,
   "id": "59daa333-5791-4e76-8fc5-4779f72cfd1f",
   "metadata": {},
   "outputs": [],
   "source": [
    "rmse(preds,targets)"
   ]
  },
  {
   "cell_type": "code",
   "execution_count": null,
   "id": "d9285c87-ac1f-42b5-9b99-9dccba16f6e6",
   "metadata": {},
   "outputs": [],
   "source": [
    "merged_df.Sales.min(), merged_df.Sales.max()"
   ]
  },
  {
   "cell_type": "code",
   "execution_count": null,
   "id": "ad3249ec-a8be-4b2d-82e4-9c59862d2335",
   "metadata": {},
   "outputs": [],
   "source": [
    "plt.hist(merged_df.Sales.sample(10000))"
   ]
  },
  {
   "cell_type": "code",
   "execution_count": null,
   "id": "a55dbbb7-2682-4b4a-8e2e-9e5a64fbb84c",
   "metadata": {},
   "outputs": [],
   "source": []
  },
  {
   "cell_type": "code",
   "execution_count": null,
   "id": "db0116d5-a577-4f5e-ac9e-5f23547ece54",
   "metadata": {},
   "outputs": [],
   "source": [
    "from xgboost import plot_tree\n",
    "from matplotlib.pylab import rcParams\n",
    "%matplotlib inline\n",
    "\n",
    "rcParams['figure.figsize'] = 30,30"
   ]
  },
  {
   "cell_type": "code",
   "execution_count": null,
   "id": "c021716a-764d-4bfe-9565-a428244e43da",
   "metadata": {},
   "outputs": [],
   "source": [
    "!pip uninstall graphviz"
   ]
  },
  {
   "cell_type": "code",
   "execution_count": null,
   "id": "b6513b5a-7e3a-4441-9221-09922af195f0",
   "metadata": {},
   "outputs": [],
   "source": [
    "!pip install graphviz"
   ]
  },
  {
   "cell_type": "code",
   "execution_count": null,
   "id": "bc215854-d9d1-4626-866f-30ab1bfa2e49",
   "metadata": {},
   "outputs": [],
   "source": [
    "plot_tree(model,rankdir='LR', num_trees=0);"
   ]
  },
  {
   "cell_type": "code",
   "execution_count": null,
   "id": "0415a7c4-1f70-4a9b-b090-745bdf08c061",
   "metadata": {},
   "outputs": [],
   "source": [
    "plot_tree(model,rankdir='LR',num_trees=1);"
   ]
  },
  {
   "cell_type": "code",
   "execution_count": null,
   "id": "3f552896-99bc-4e65-b557-5ff359dfa7b0",
   "metadata": {},
   "outputs": [],
   "source": [
    "plot_tree(model,rankdir='LR',num_trees=19);"
   ]
  },
  {
   "cell_type": "code",
   "execution_count": null,
   "id": "b93045a4-f5f8-4a87-8356-699fe658ea2a",
   "metadata": {},
   "outputs": [],
   "source": [
    "trees = model.get_booster().get_dump()"
   ]
  },
  {
   "cell_type": "code",
   "execution_count": null,
   "id": "29a09948-5904-43ea-b090-9fae094675ac",
   "metadata": {},
   "outputs": [],
   "source": [
    "len(trees)"
   ]
  },
  {
   "cell_type": "code",
   "execution_count": null,
   "id": "27b48fb8-0df2-4975-b4b4-aec0043b4d7c",
   "metadata": {},
   "outputs": [],
   "source": []
  }
 ],
 "metadata": {
  "kernelspec": {
   "display_name": "Python 3 (ipykernel)",
   "language": "python",
   "name": "python3"
  },
  "language_info": {
   "codemirror_mode": {
    "name": "ipython",
    "version": 3
   },
   "file_extension": ".py",
   "mimetype": "text/x-python",
   "name": "python",
   "nbconvert_exporter": "python",
   "pygments_lexer": "ipython3",
   "version": "3.11.7"
  },
  "widgets": {
   "application/vnd.jupyter.widget-state+json": {
    "state": {},
    "version_major": 2,
    "version_minor": 0
   }
  }
 },
 "nbformat": 4,
 "nbformat_minor": 5
}
